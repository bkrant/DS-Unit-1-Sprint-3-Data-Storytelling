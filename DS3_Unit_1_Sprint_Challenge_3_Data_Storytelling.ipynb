{
  "nbformat": 4,
  "nbformat_minor": 0,
  "metadata": {
    "colab": {
      "name": "DS3_Unit_1_Sprint_Challenge_3_Data_Storytelling.ipynb",
      "version": "0.3.2",
      "provenance": [],
      "collapsed_sections": [],
      "include_colab_link": true
    },
    "kernelspec": {
      "display_name": "Python 3",
      "language": "python",
      "name": "python3"
    }
  },
  "cells": [
    {
      "cell_type": "markdown",
      "metadata": {
        "id": "view-in-github",
        "colab_type": "text"
      },
      "source": [
        "<a href=\"https://colab.research.google.com/github/bkrant/DS-Unit-1-Sprint-3-Data-Storytelling/blob/master/DS3_Unit_1_Sprint_Challenge_3_Data_Storytelling.ipynb\" target=\"_parent\"><img src=\"https://colab.research.google.com/assets/colab-badge.svg\" alt=\"Open In Colab\"/></a>"
      ]
    },
    {
      "metadata": {
        "colab_type": "text",
        "id": "i-n_5en3ER1o"
      },
      "cell_type": "markdown",
      "source": [
        "# Data Science Unit 1 Sprint Challenge 3\n",
        "\n",
        "# Data Storytelling\n",
        "\n",
        "In this sprint challenge you'll work with a dataset from **FiveThirtyEight's article, [Every Guest Jon Stewart Ever Had On ‘The Daily Show’](https://fivethirtyeight.com/features/every-guest-jon-stewart-ever-had-on-the-daily-show/)**!"
      ]
    },
    {
      "metadata": {
        "colab_type": "text",
        "id": "Thm2n5FF2Fnp"
      },
      "cell_type": "markdown",
      "source": [
        "# Part 0 — Run this starter code\n",
        "\n",
        "You don't need to add or change anything here. Just run this cell and it loads the data for you, into a dataframe named `df`.\n",
        "\n",
        "(You can explore the data if you want, but it's not required to pass the Sprint Challenge.)"
      ]
    },
    {
      "metadata": {
        "id": "VJqBln4ORzG-",
        "colab_type": "code",
        "colab": {
          "base_uri": "https://localhost:8080/",
          "height": 425
        },
        "outputId": "497c31d4-7474-48da-c4a2-6a4178fa4bf6"
      },
      "cell_type": "code",
      "source": [
        "!pip install seaborn --upgrade"
      ],
      "execution_count": 4,
      "outputs": [
        {
          "output_type": "stream",
          "text": [
            "Collecting seaborn\n",
            "\u001b[?25l  Downloading https://files.pythonhosted.org/packages/a8/76/220ba4420459d9c4c9c9587c6ce607bf56c25b3d3d2de62056efe482dadc/seaborn-0.9.0-py3-none-any.whl (208kB)\n",
            "\r\u001b[K    4% |█▋                              | 10kB 10.8MB/s eta 0:00:01\r\u001b[K    9% |███▏                            | 20kB 3.3MB/s eta 0:00:01\r\u001b[K    14% |████▊                           | 30kB 4.8MB/s eta 0:00:01\r\u001b[K    19% |██████▎                         | 40kB 3.1MB/s eta 0:00:01\r\u001b[K    24% |███████▉                        | 51kB 3.8MB/s eta 0:00:01\r\u001b[K    29% |█████████▌                      | 61kB 4.5MB/s eta 0:00:01\r\u001b[K    34% |███████████                     | 71kB 5.1MB/s eta 0:00:01\r\u001b[K    39% |████████████▋                   | 81kB 5.7MB/s eta 0:00:01\r\u001b[K    44% |██████████████▏                 | 92kB 6.4MB/s eta 0:00:01\r\u001b[K    49% |███████████████▊                | 102kB 5.0MB/s eta 0:00:01\r\u001b[K    54% |█████████████████▎              | 112kB 5.2MB/s eta 0:00:01\r\u001b[K    59% |███████████████████             | 122kB 6.9MB/s eta 0:00:01\r\u001b[K    63% |████████████████████▌           | 133kB 6.9MB/s eta 0:00:01\r\u001b[K    68% |██████████████████████          | 143kB 12.3MB/s eta 0:00:01\r\u001b[K    73% |███████████████████████▋        | 153kB 12.6MB/s eta 0:00:01\r\u001b[K    78% |█████████████████████████▏      | 163kB 12.5MB/s eta 0:00:01\r\u001b[K    83% |██████████████████████████▊     | 174kB 12.2MB/s eta 0:00:01\r\u001b[K    88% |████████████████████████████▍   | 184kB 12.3MB/s eta 0:00:01\r\u001b[K    93% |██████████████████████████████  | 194kB 12.4MB/s eta 0:00:01\r\u001b[K    98% |███████████████████████████████▌| 204kB 36.2MB/s eta 0:00:01\r\u001b[K    100% |████████████████████████████████| 215kB 24.3MB/s \n",
            "\u001b[?25hRequirement already satisfied, skipping upgrade: pandas>=0.15.2 in /usr/local/lib/python3.6/dist-packages (from seaborn) (0.22.0)\n",
            "Requirement already satisfied, skipping upgrade: scipy>=0.14.0 in /usr/local/lib/python3.6/dist-packages (from seaborn) (1.1.0)\n",
            "Requirement already satisfied, skipping upgrade: matplotlib>=1.4.3 in /usr/local/lib/python3.6/dist-packages (from seaborn) (3.0.3)\n",
            "Requirement already satisfied, skipping upgrade: numpy>=1.9.3 in /usr/local/lib/python3.6/dist-packages (from seaborn) (1.14.6)\n",
            "Requirement already satisfied, skipping upgrade: pytz>=2011k in /usr/local/lib/python3.6/dist-packages (from pandas>=0.15.2->seaborn) (2018.9)\n",
            "Requirement already satisfied, skipping upgrade: python-dateutil>=2 in /usr/local/lib/python3.6/dist-packages (from pandas>=0.15.2->seaborn) (2.5.3)\n",
            "Requirement already satisfied, skipping upgrade: kiwisolver>=1.0.1 in /usr/local/lib/python3.6/dist-packages (from matplotlib>=1.4.3->seaborn) (1.0.1)\n",
            "Requirement already satisfied, skipping upgrade: cycler>=0.10 in /usr/local/lib/python3.6/dist-packages (from matplotlib>=1.4.3->seaborn) (0.10.0)\n",
            "Requirement already satisfied, skipping upgrade: pyparsing!=2.0.4,!=2.1.2,!=2.1.6,>=2.0.1 in /usr/local/lib/python3.6/dist-packages (from matplotlib>=1.4.3->seaborn) (2.3.1)\n",
            "Requirement already satisfied, skipping upgrade: six>=1.5 in /usr/local/lib/python3.6/dist-packages (from python-dateutil>=2->pandas>=0.15.2->seaborn) (1.11.0)\n",
            "Requirement already satisfied, skipping upgrade: setuptools in /usr/local/lib/python3.6/dist-packages (from kiwisolver>=1.0.1->matplotlib>=1.4.3->seaborn) (40.8.0)\n",
            "Installing collected packages: seaborn\n",
            "  Found existing installation: seaborn 0.7.1\n",
            "    Uninstalling seaborn-0.7.1:\n",
            "      Successfully uninstalled seaborn-0.7.1\n",
            "Successfully installed seaborn-0.9.0\n"
          ],
          "name": "stdout"
        },
        {
          "output_type": "display_data",
          "data": {
            "application/vnd.colab-display-data+json": {
              "pip_warning": {
                "packages": [
                  "seaborn"
                ]
              }
            }
          },
          "metadata": {
            "tags": []
          }
        }
      ]
    },
    {
      "metadata": {
        "id": "KDdO0yq0R9t4",
        "colab_type": "code",
        "colab": {
          "base_uri": "https://localhost:8080/",
          "height": 34
        },
        "outputId": "e6ea1244-355c-41fb-8256-7ff99bcfee5b"
      },
      "cell_type": "code",
      "source": [
        "import seaborn as sns\n",
        "sns.__version__"
      ],
      "execution_count": 1,
      "outputs": [
        {
          "output_type": "execute_result",
          "data": {
            "text/plain": [
              "'0.9.0'"
            ]
          },
          "metadata": {
            "tags": []
          },
          "execution_count": 1
        }
      ]
    },
    {
      "metadata": {
        "colab_type": "code",
        "id": "0rTHgzJIuRS7",
        "colab": {}
      },
      "cell_type": "code",
      "source": [
        "%matplotlib inline\n",
        "import matplotlib.pyplot as plt\n",
        "import numpy as np\n",
        "import pandas as pd\n",
        "\n",
        "url = 'https://raw.githubusercontent.com/fivethirtyeight/data/master/daily-show-guests/daily_show_guests.csv'\n",
        "df = pd.read_csv(url).rename(columns={'YEAR': 'Year', 'Raw_Guest_List': 'Guest'})\n",
        "\n",
        "def get_occupation(group):\n",
        "    if group in ['Acting', 'Comedy', 'Musician']:\n",
        "        return 'Acting, Comedy & Music'\n",
        "    elif group in ['Media', 'media']:\n",
        "        return 'Media'\n",
        "    elif group in ['Government', 'Politician', 'Political Aide']:\n",
        "        return 'Government and Politics'\n",
        "    else:\n",
        "        return 'Other'\n",
        "      \n",
        "df['Occupation'] = df['Group'].apply(get_occupation)"
      ],
      "execution_count": 0,
      "outputs": []
    },
    {
      "metadata": {
        "colab_type": "text",
        "id": "OS0nW1vz1itX"
      },
      "cell_type": "markdown",
      "source": [
        "# Part 1 — What's the breakdown of guests’ occupations per year?\n",
        "\n",
        "For example, in 1999, what percentage of guests were actors, comedians, or musicians? What percentage were in the media? What percentage were in politics? What percentage were from another occupation?\n",
        "\n",
        "Then, what about in 2000? In 2001? And so on, up through 2015.\n",
        "\n",
        "So, **for each year of _The Daily Show_, calculate the percentage of guests from each occupation:**\n",
        "- Acting, Comedy & Music\n",
        "- Government and Politics\n",
        "- Media\n",
        "- Other\n",
        "\n",
        "#### Hints:\n",
        "You can make a crosstab. (See pandas documentation for examples, explanation, and parameters.)\n",
        "\n",
        "You'll know you've calculated correctly when the percentage of \"Acting, Comedy & Music\" guests is 90.36% in 1999, and 45% in 2015.\n",
        "\n",
        "**Optional Bonus Challenge:** Do additional insightful data exploration."
      ]
    },
    {
      "metadata": {
        "id": "dwCLph-CKHF1",
        "colab_type": "code",
        "colab": {
          "base_uri": "https://localhost:8080/",
          "height": 607
        },
        "outputId": "82bcaa45-bc0f-41ce-b7dc-ccbd1d3e1c98"
      },
      "cell_type": "code",
      "source": [
        "ct = pd.crosstab(df.Year, df.Occupation, normalize='index')\n",
        "ct"
      ],
      "execution_count": 4,
      "outputs": [
        {
          "output_type": "execute_result",
          "data": {
            "text/html": [
              "<div>\n",
              "<style scoped>\n",
              "    .dataframe tbody tr th:only-of-type {\n",
              "        vertical-align: middle;\n",
              "    }\n",
              "\n",
              "    .dataframe tbody tr th {\n",
              "        vertical-align: top;\n",
              "    }\n",
              "\n",
              "    .dataframe thead th {\n",
              "        text-align: right;\n",
              "    }\n",
              "</style>\n",
              "<table border=\"1\" class=\"dataframe\">\n",
              "  <thead>\n",
              "    <tr style=\"text-align: right;\">\n",
              "      <th>Occupation</th>\n",
              "      <th>Acting, Comedy &amp; Music</th>\n",
              "      <th>Government and Politics</th>\n",
              "      <th>Media</th>\n",
              "      <th>Other</th>\n",
              "    </tr>\n",
              "    <tr>\n",
              "      <th>Year</th>\n",
              "      <th></th>\n",
              "      <th></th>\n",
              "      <th></th>\n",
              "      <th></th>\n",
              "    </tr>\n",
              "  </thead>\n",
              "  <tbody>\n",
              "    <tr>\n",
              "      <th>1999</th>\n",
              "      <td>0.903614</td>\n",
              "      <td>0.012048</td>\n",
              "      <td>0.066265</td>\n",
              "      <td>0.018072</td>\n",
              "    </tr>\n",
              "    <tr>\n",
              "      <th>2000</th>\n",
              "      <td>0.739645</td>\n",
              "      <td>0.082840</td>\n",
              "      <td>0.124260</td>\n",
              "      <td>0.053254</td>\n",
              "    </tr>\n",
              "    <tr>\n",
              "      <th>2001</th>\n",
              "      <td>0.726115</td>\n",
              "      <td>0.038217</td>\n",
              "      <td>0.197452</td>\n",
              "      <td>0.038217</td>\n",
              "    </tr>\n",
              "    <tr>\n",
              "      <th>2002</th>\n",
              "      <td>0.622642</td>\n",
              "      <td>0.069182</td>\n",
              "      <td>0.264151</td>\n",
              "      <td>0.044025</td>\n",
              "    </tr>\n",
              "    <tr>\n",
              "      <th>2003</th>\n",
              "      <td>0.560241</td>\n",
              "      <td>0.102410</td>\n",
              "      <td>0.246988</td>\n",
              "      <td>0.090361</td>\n",
              "    </tr>\n",
              "    <tr>\n",
              "      <th>2004</th>\n",
              "      <td>0.384146</td>\n",
              "      <td>0.225610</td>\n",
              "      <td>0.274390</td>\n",
              "      <td>0.115854</td>\n",
              "    </tr>\n",
              "    <tr>\n",
              "      <th>2005</th>\n",
              "      <td>0.370370</td>\n",
              "      <td>0.160494</td>\n",
              "      <td>0.333333</td>\n",
              "      <td>0.135802</td>\n",
              "    </tr>\n",
              "    <tr>\n",
              "      <th>2006</th>\n",
              "      <td>0.360248</td>\n",
              "      <td>0.192547</td>\n",
              "      <td>0.291925</td>\n",
              "      <td>0.155280</td>\n",
              "    </tr>\n",
              "    <tr>\n",
              "      <th>2007</th>\n",
              "      <td>0.255319</td>\n",
              "      <td>0.170213</td>\n",
              "      <td>0.333333</td>\n",
              "      <td>0.241135</td>\n",
              "    </tr>\n",
              "    <tr>\n",
              "      <th>2008</th>\n",
              "      <td>0.207317</td>\n",
              "      <td>0.201220</td>\n",
              "      <td>0.469512</td>\n",
              "      <td>0.121951</td>\n",
              "    </tr>\n",
              "    <tr>\n",
              "      <th>2009</th>\n",
              "      <td>0.208589</td>\n",
              "      <td>0.208589</td>\n",
              "      <td>0.361963</td>\n",
              "      <td>0.220859</td>\n",
              "    </tr>\n",
              "    <tr>\n",
              "      <th>2010</th>\n",
              "      <td>0.351515</td>\n",
              "      <td>0.181818</td>\n",
              "      <td>0.303030</td>\n",
              "      <td>0.163636</td>\n",
              "    </tr>\n",
              "    <tr>\n",
              "      <th>2011</th>\n",
              "      <td>0.337423</td>\n",
              "      <td>0.165644</td>\n",
              "      <td>0.312883</td>\n",
              "      <td>0.184049</td>\n",
              "    </tr>\n",
              "    <tr>\n",
              "      <th>2012</th>\n",
              "      <td>0.268293</td>\n",
              "      <td>0.201220</td>\n",
              "      <td>0.317073</td>\n",
              "      <td>0.213415</td>\n",
              "    </tr>\n",
              "    <tr>\n",
              "      <th>2013</th>\n",
              "      <td>0.427711</td>\n",
              "      <td>0.126506</td>\n",
              "      <td>0.307229</td>\n",
              "      <td>0.138554</td>\n",
              "    </tr>\n",
              "    <tr>\n",
              "      <th>2014</th>\n",
              "      <td>0.392638</td>\n",
              "      <td>0.128834</td>\n",
              "      <td>0.325153</td>\n",
              "      <td>0.153374</td>\n",
              "    </tr>\n",
              "    <tr>\n",
              "      <th>2015</th>\n",
              "      <td>0.450000</td>\n",
              "      <td>0.170000</td>\n",
              "      <td>0.240000</td>\n",
              "      <td>0.140000</td>\n",
              "    </tr>\n",
              "  </tbody>\n",
              "</table>\n",
              "</div>"
            ],
            "text/plain": [
              "Occupation  Acting, Comedy & Music  Government and Politics     Media  \\\n",
              "Year                                                                    \n",
              "1999                      0.903614                 0.012048  0.066265   \n",
              "2000                      0.739645                 0.082840  0.124260   \n",
              "2001                      0.726115                 0.038217  0.197452   \n",
              "2002                      0.622642                 0.069182  0.264151   \n",
              "2003                      0.560241                 0.102410  0.246988   \n",
              "2004                      0.384146                 0.225610  0.274390   \n",
              "2005                      0.370370                 0.160494  0.333333   \n",
              "2006                      0.360248                 0.192547  0.291925   \n",
              "2007                      0.255319                 0.170213  0.333333   \n",
              "2008                      0.207317                 0.201220  0.469512   \n",
              "2009                      0.208589                 0.208589  0.361963   \n",
              "2010                      0.351515                 0.181818  0.303030   \n",
              "2011                      0.337423                 0.165644  0.312883   \n",
              "2012                      0.268293                 0.201220  0.317073   \n",
              "2013                      0.427711                 0.126506  0.307229   \n",
              "2014                      0.392638                 0.128834  0.325153   \n",
              "2015                      0.450000                 0.170000  0.240000   \n",
              "\n",
              "Occupation     Other  \n",
              "Year                  \n",
              "1999        0.018072  \n",
              "2000        0.053254  \n",
              "2001        0.038217  \n",
              "2002        0.044025  \n",
              "2003        0.090361  \n",
              "2004        0.115854  \n",
              "2005        0.135802  \n",
              "2006        0.155280  \n",
              "2007        0.241135  \n",
              "2008        0.121951  \n",
              "2009        0.220859  \n",
              "2010        0.163636  \n",
              "2011        0.184049  \n",
              "2012        0.213415  \n",
              "2013        0.138554  \n",
              "2014        0.153374  \n",
              "2015        0.140000  "
            ]
          },
          "metadata": {
            "tags": []
          },
          "execution_count": 4
        }
      ]
    },
    {
      "metadata": {
        "colab_type": "code",
        "id": "sRMc0H_5z6ff",
        "colab": {
          "base_uri": "https://localhost:8080/",
          "height": 204
        },
        "outputId": "7404b938-a769-4e53-f1e0-0cdb071167a2"
      },
      "cell_type": "code",
      "source": [
        "df.head()"
      ],
      "execution_count": 2,
      "outputs": [
        {
          "output_type": "execute_result",
          "data": {
            "text/html": [
              "<div>\n",
              "<style scoped>\n",
              "    .dataframe tbody tr th:only-of-type {\n",
              "        vertical-align: middle;\n",
              "    }\n",
              "\n",
              "    .dataframe tbody tr th {\n",
              "        vertical-align: top;\n",
              "    }\n",
              "\n",
              "    .dataframe thead th {\n",
              "        text-align: right;\n",
              "    }\n",
              "</style>\n",
              "<table border=\"1\" class=\"dataframe\">\n",
              "  <thead>\n",
              "    <tr style=\"text-align: right;\">\n",
              "      <th></th>\n",
              "      <th>Year</th>\n",
              "      <th>GoogleKnowlege_Occupation</th>\n",
              "      <th>Show</th>\n",
              "      <th>Group</th>\n",
              "      <th>Guest</th>\n",
              "      <th>Occupation</th>\n",
              "    </tr>\n",
              "  </thead>\n",
              "  <tbody>\n",
              "    <tr>\n",
              "      <th>0</th>\n",
              "      <td>1999</td>\n",
              "      <td>actor</td>\n",
              "      <td>1/11/99</td>\n",
              "      <td>Acting</td>\n",
              "      <td>Michael J. Fox</td>\n",
              "      <td>Acting, Comedy &amp; Music</td>\n",
              "    </tr>\n",
              "    <tr>\n",
              "      <th>1</th>\n",
              "      <td>1999</td>\n",
              "      <td>Comedian</td>\n",
              "      <td>1/12/99</td>\n",
              "      <td>Comedy</td>\n",
              "      <td>Sandra Bernhard</td>\n",
              "      <td>Acting, Comedy &amp; Music</td>\n",
              "    </tr>\n",
              "    <tr>\n",
              "      <th>2</th>\n",
              "      <td>1999</td>\n",
              "      <td>television actress</td>\n",
              "      <td>1/13/99</td>\n",
              "      <td>Acting</td>\n",
              "      <td>Tracey Ullman</td>\n",
              "      <td>Acting, Comedy &amp; Music</td>\n",
              "    </tr>\n",
              "    <tr>\n",
              "      <th>3</th>\n",
              "      <td>1999</td>\n",
              "      <td>film actress</td>\n",
              "      <td>1/14/99</td>\n",
              "      <td>Acting</td>\n",
              "      <td>Gillian Anderson</td>\n",
              "      <td>Acting, Comedy &amp; Music</td>\n",
              "    </tr>\n",
              "    <tr>\n",
              "      <th>4</th>\n",
              "      <td>1999</td>\n",
              "      <td>actor</td>\n",
              "      <td>1/18/99</td>\n",
              "      <td>Acting</td>\n",
              "      <td>David Alan Grier</td>\n",
              "      <td>Acting, Comedy &amp; Music</td>\n",
              "    </tr>\n",
              "  </tbody>\n",
              "</table>\n",
              "</div>"
            ],
            "text/plain": [
              "   Year GoogleKnowlege_Occupation     Show   Group             Guest  \\\n",
              "0  1999                     actor  1/11/99  Acting    Michael J. Fox   \n",
              "1  1999                  Comedian  1/12/99  Comedy   Sandra Bernhard   \n",
              "2  1999        television actress  1/13/99  Acting     Tracey Ullman   \n",
              "3  1999              film actress  1/14/99  Acting  Gillian Anderson   \n",
              "4  1999                     actor  1/18/99  Acting  David Alan Grier   \n",
              "\n",
              "               Occupation  \n",
              "0  Acting, Comedy & Music  \n",
              "1  Acting, Comedy & Music  \n",
              "2  Acting, Comedy & Music  \n",
              "3  Acting, Comedy & Music  \n",
              "4  Acting, Comedy & Music  "
            ]
          },
          "metadata": {
            "tags": []
          },
          "execution_count": 2
        }
      ]
    },
    {
      "metadata": {
        "colab_type": "text",
        "id": "Nqf9oJJDDu-d"
      },
      "cell_type": "markdown",
      "source": [
        "# Part 2 — Recreate this explanatory visualization:"
      ]
    },
    {
      "metadata": {
        "id": "FNWAjrCOToje",
        "colab_type": "code",
        "colab": {
          "base_uri": "https://localhost:8080/",
          "height": 607
        },
        "outputId": "5cb7d45a-bd2c-49f8-fe13-0daf814ab206"
      },
      "cell_type": "code",
      "source": [
        "ct"
      ],
      "execution_count": 7,
      "outputs": [
        {
          "output_type": "execute_result",
          "data": {
            "text/html": [
              "<div>\n",
              "<style scoped>\n",
              "    .dataframe tbody tr th:only-of-type {\n",
              "        vertical-align: middle;\n",
              "    }\n",
              "\n",
              "    .dataframe tbody tr th {\n",
              "        vertical-align: top;\n",
              "    }\n",
              "\n",
              "    .dataframe thead th {\n",
              "        text-align: right;\n",
              "    }\n",
              "</style>\n",
              "<table border=\"1\" class=\"dataframe\">\n",
              "  <thead>\n",
              "    <tr style=\"text-align: right;\">\n",
              "      <th>Occupation</th>\n",
              "      <th>Acting, Comedy &amp; Music</th>\n",
              "      <th>Government and Politics</th>\n",
              "      <th>Media</th>\n",
              "      <th>Other</th>\n",
              "    </tr>\n",
              "    <tr>\n",
              "      <th>Year</th>\n",
              "      <th></th>\n",
              "      <th></th>\n",
              "      <th></th>\n",
              "      <th></th>\n",
              "    </tr>\n",
              "  </thead>\n",
              "  <tbody>\n",
              "    <tr>\n",
              "      <th>1999</th>\n",
              "      <td>0.903614</td>\n",
              "      <td>0.012048</td>\n",
              "      <td>0.066265</td>\n",
              "      <td>0.018072</td>\n",
              "    </tr>\n",
              "    <tr>\n",
              "      <th>2000</th>\n",
              "      <td>0.739645</td>\n",
              "      <td>0.082840</td>\n",
              "      <td>0.124260</td>\n",
              "      <td>0.053254</td>\n",
              "    </tr>\n",
              "    <tr>\n",
              "      <th>2001</th>\n",
              "      <td>0.726115</td>\n",
              "      <td>0.038217</td>\n",
              "      <td>0.197452</td>\n",
              "      <td>0.038217</td>\n",
              "    </tr>\n",
              "    <tr>\n",
              "      <th>2002</th>\n",
              "      <td>0.622642</td>\n",
              "      <td>0.069182</td>\n",
              "      <td>0.264151</td>\n",
              "      <td>0.044025</td>\n",
              "    </tr>\n",
              "    <tr>\n",
              "      <th>2003</th>\n",
              "      <td>0.560241</td>\n",
              "      <td>0.102410</td>\n",
              "      <td>0.246988</td>\n",
              "      <td>0.090361</td>\n",
              "    </tr>\n",
              "    <tr>\n",
              "      <th>2004</th>\n",
              "      <td>0.384146</td>\n",
              "      <td>0.225610</td>\n",
              "      <td>0.274390</td>\n",
              "      <td>0.115854</td>\n",
              "    </tr>\n",
              "    <tr>\n",
              "      <th>2005</th>\n",
              "      <td>0.370370</td>\n",
              "      <td>0.160494</td>\n",
              "      <td>0.333333</td>\n",
              "      <td>0.135802</td>\n",
              "    </tr>\n",
              "    <tr>\n",
              "      <th>2006</th>\n",
              "      <td>0.360248</td>\n",
              "      <td>0.192547</td>\n",
              "      <td>0.291925</td>\n",
              "      <td>0.155280</td>\n",
              "    </tr>\n",
              "    <tr>\n",
              "      <th>2007</th>\n",
              "      <td>0.255319</td>\n",
              "      <td>0.170213</td>\n",
              "      <td>0.333333</td>\n",
              "      <td>0.241135</td>\n",
              "    </tr>\n",
              "    <tr>\n",
              "      <th>2008</th>\n",
              "      <td>0.207317</td>\n",
              "      <td>0.201220</td>\n",
              "      <td>0.469512</td>\n",
              "      <td>0.121951</td>\n",
              "    </tr>\n",
              "    <tr>\n",
              "      <th>2009</th>\n",
              "      <td>0.208589</td>\n",
              "      <td>0.208589</td>\n",
              "      <td>0.361963</td>\n",
              "      <td>0.220859</td>\n",
              "    </tr>\n",
              "    <tr>\n",
              "      <th>2010</th>\n",
              "      <td>0.351515</td>\n",
              "      <td>0.181818</td>\n",
              "      <td>0.303030</td>\n",
              "      <td>0.163636</td>\n",
              "    </tr>\n",
              "    <tr>\n",
              "      <th>2011</th>\n",
              "      <td>0.337423</td>\n",
              "      <td>0.165644</td>\n",
              "      <td>0.312883</td>\n",
              "      <td>0.184049</td>\n",
              "    </tr>\n",
              "    <tr>\n",
              "      <th>2012</th>\n",
              "      <td>0.268293</td>\n",
              "      <td>0.201220</td>\n",
              "      <td>0.317073</td>\n",
              "      <td>0.213415</td>\n",
              "    </tr>\n",
              "    <tr>\n",
              "      <th>2013</th>\n",
              "      <td>0.427711</td>\n",
              "      <td>0.126506</td>\n",
              "      <td>0.307229</td>\n",
              "      <td>0.138554</td>\n",
              "    </tr>\n",
              "    <tr>\n",
              "      <th>2014</th>\n",
              "      <td>0.392638</td>\n",
              "      <td>0.128834</td>\n",
              "      <td>0.325153</td>\n",
              "      <td>0.153374</td>\n",
              "    </tr>\n",
              "    <tr>\n",
              "      <th>2015</th>\n",
              "      <td>0.450000</td>\n",
              "      <td>0.170000</td>\n",
              "      <td>0.240000</td>\n",
              "      <td>0.140000</td>\n",
              "    </tr>\n",
              "  </tbody>\n",
              "</table>\n",
              "</div>"
            ],
            "text/plain": [
              "Occupation  Acting, Comedy & Music  Government and Politics     Media  \\\n",
              "Year                                                                    \n",
              "1999                      0.903614                 0.012048  0.066265   \n",
              "2000                      0.739645                 0.082840  0.124260   \n",
              "2001                      0.726115                 0.038217  0.197452   \n",
              "2002                      0.622642                 0.069182  0.264151   \n",
              "2003                      0.560241                 0.102410  0.246988   \n",
              "2004                      0.384146                 0.225610  0.274390   \n",
              "2005                      0.370370                 0.160494  0.333333   \n",
              "2006                      0.360248                 0.192547  0.291925   \n",
              "2007                      0.255319                 0.170213  0.333333   \n",
              "2008                      0.207317                 0.201220  0.469512   \n",
              "2009                      0.208589                 0.208589  0.361963   \n",
              "2010                      0.351515                 0.181818  0.303030   \n",
              "2011                      0.337423                 0.165644  0.312883   \n",
              "2012                      0.268293                 0.201220  0.317073   \n",
              "2013                      0.427711                 0.126506  0.307229   \n",
              "2014                      0.392638                 0.128834  0.325153   \n",
              "2015                      0.450000                 0.170000  0.240000   \n",
              "\n",
              "Occupation     Other  \n",
              "Year                  \n",
              "1999        0.018072  \n",
              "2000        0.053254  \n",
              "2001        0.038217  \n",
              "2002        0.044025  \n",
              "2003        0.090361  \n",
              "2004        0.115854  \n",
              "2005        0.135802  \n",
              "2006        0.155280  \n",
              "2007        0.241135  \n",
              "2008        0.121951  \n",
              "2009        0.220859  \n",
              "2010        0.163636  \n",
              "2011        0.184049  \n",
              "2012        0.213415  \n",
              "2013        0.138554  \n",
              "2014        0.153374  \n",
              "2015        0.140000  "
            ]
          },
          "metadata": {
            "tags": []
          },
          "execution_count": 7
        }
      ]
    },
    {
      "metadata": {
        "id": "ttDM_CCzcB7U",
        "colab_type": "code",
        "colab": {}
      },
      "cell_type": "code",
      "source": [
        "ct = ct.reset_index()"
      ],
      "execution_count": 0,
      "outputs": []
    },
    {
      "metadata": {
        "id": "OsH6Xd3SeSJc",
        "colab_type": "code",
        "colab": {}
      },
      "cell_type": "code",
      "source": [
        "ct.drop('Other',inplace=True, axis=1)"
      ],
      "execution_count": 0,
      "outputs": []
    },
    {
      "metadata": {
        "id": "HEo98bb_crAu",
        "colab_type": "code",
        "colab": {
          "base_uri": "https://localhost:8080/",
          "height": 111
        },
        "outputId": "92641039-e05b-49e6-a51a-bfb588b2afa9"
      },
      "cell_type": "code",
      "source": [
        "ct.head(2)"
      ],
      "execution_count": 44,
      "outputs": [
        {
          "output_type": "execute_result",
          "data": {
            "text/html": [
              "<div>\n",
              "<style scoped>\n",
              "    .dataframe tbody tr th:only-of-type {\n",
              "        vertical-align: middle;\n",
              "    }\n",
              "\n",
              "    .dataframe tbody tr th {\n",
              "        vertical-align: top;\n",
              "    }\n",
              "\n",
              "    .dataframe thead th {\n",
              "        text-align: right;\n",
              "    }\n",
              "</style>\n",
              "<table border=\"1\" class=\"dataframe\">\n",
              "  <thead>\n",
              "    <tr style=\"text-align: right;\">\n",
              "      <th>Occupation</th>\n",
              "      <th>Year</th>\n",
              "      <th>Acting, Comedy &amp; Music</th>\n",
              "      <th>Government and Politics</th>\n",
              "      <th>Media</th>\n",
              "    </tr>\n",
              "  </thead>\n",
              "  <tbody>\n",
              "    <tr>\n",
              "      <th>0</th>\n",
              "      <td>1999</td>\n",
              "      <td>0.903614</td>\n",
              "      <td>0.012048</td>\n",
              "      <td>0.066265</td>\n",
              "    </tr>\n",
              "    <tr>\n",
              "      <th>1</th>\n",
              "      <td>2000</td>\n",
              "      <td>0.739645</td>\n",
              "      <td>0.082840</td>\n",
              "      <td>0.124260</td>\n",
              "    </tr>\n",
              "  </tbody>\n",
              "</table>\n",
              "</div>"
            ],
            "text/plain": [
              "Occupation  Year  Acting, Comedy & Music  Government and Politics     Media\n",
              "0           1999                0.903614                 0.012048  0.066265\n",
              "1           2000                0.739645                 0.082840  0.124260"
            ]
          },
          "metadata": {
            "tags": []
          },
          "execution_count": 44
        }
      ]
    },
    {
      "metadata": {
        "id": "VKfdS_kpczjl",
        "colab_type": "code",
        "colab": {
          "base_uri": "https://localhost:8080/",
          "height": 34
        },
        "outputId": "f83c3948-0981-463c-853f-29b95ad519df"
      },
      "cell_type": "code",
      "source": [
        "ct.columns"
      ],
      "execution_count": 45,
      "outputs": [
        {
          "output_type": "execute_result",
          "data": {
            "text/plain": [
              "Index(['Year', 'Acting, Comedy & Music', 'Government and Politics', 'Media'], dtype='object', name='Occupation')"
            ]
          },
          "metadata": {
            "tags": []
          },
          "execution_count": 45
        }
      ]
    },
    {
      "metadata": {
        "id": "jw0jtNIiZqgv",
        "colab_type": "code",
        "colab": {}
      },
      "cell_type": "code",
      "source": [
        "melt = pd.melt(ct, id_vars='Year', var_name='occupation', value_name='percent')"
      ],
      "execution_count": 0,
      "outputs": []
    },
    {
      "metadata": {
        "id": "Eu74N6MGfl_y",
        "colab_type": "code",
        "colab": {
          "base_uri": "https://localhost:8080/",
          "height": 111
        },
        "outputId": "71ee75aa-0eab-4ea7-af6f-640ff569115e"
      },
      "cell_type": "code",
      "source": [
        "melt.head(2)"
      ],
      "execution_count": 48,
      "outputs": [
        {
          "output_type": "execute_result",
          "data": {
            "text/html": [
              "<div>\n",
              "<style scoped>\n",
              "    .dataframe tbody tr th:only-of-type {\n",
              "        vertical-align: middle;\n",
              "    }\n",
              "\n",
              "    .dataframe tbody tr th {\n",
              "        vertical-align: top;\n",
              "    }\n",
              "\n",
              "    .dataframe thead th {\n",
              "        text-align: right;\n",
              "    }\n",
              "</style>\n",
              "<table border=\"1\" class=\"dataframe\">\n",
              "  <thead>\n",
              "    <tr style=\"text-align: right;\">\n",
              "      <th></th>\n",
              "      <th>Year</th>\n",
              "      <th>occupation</th>\n",
              "      <th>percent</th>\n",
              "    </tr>\n",
              "  </thead>\n",
              "  <tbody>\n",
              "    <tr>\n",
              "      <th>0</th>\n",
              "      <td>1999</td>\n",
              "      <td>Acting, Comedy &amp; Music</td>\n",
              "      <td>0.903614</td>\n",
              "    </tr>\n",
              "    <tr>\n",
              "      <th>1</th>\n",
              "      <td>2000</td>\n",
              "      <td>Acting, Comedy &amp; Music</td>\n",
              "      <td>0.739645</td>\n",
              "    </tr>\n",
              "  </tbody>\n",
              "</table>\n",
              "</div>"
            ],
            "text/plain": [
              "   Year              occupation   percent\n",
              "0  1999  Acting, Comedy & Music  0.903614\n",
              "1  2000  Acting, Comedy & Music  0.739645"
            ]
          },
          "metadata": {
            "tags": []
          },
          "execution_count": 48
        }
      ]
    },
    {
      "metadata": {
        "id": "fzz0Dj5Mg3bz",
        "colab_type": "code",
        "colab": {}
      },
      "cell_type": "code",
      "source": [
        "import matplotlib.pyplot as plt\n",
        "import matplotlib\n",
        "matplotlib.style.use('fivethirtyeight')\n",
        "#plt.rcParams['figure.figsize'] = (20,20)"
      ],
      "execution_count": 0,
      "outputs": []
    },
    {
      "metadata": {
        "colab_type": "text",
        "id": "W7lw3JzAE6BJ"
      },
      "cell_type": "markdown",
      "source": [
        "**Hints:**\n",
        "- You can choose any Python visualization library you want. I've verified the plot can be reproduced with matplotlib, pandas plot, or seaborn. I assume other libraries like altair or plotly would work too.\n",
        "- If you choose to use seaborn, you may want to upgrade the version to 0.9.0.\n",
        "\n",
        "**Expectations:** Your plot should include:\n",
        "- 3 lines visualizing \"occupation of guests, by year.\" The shapes of the lines should look roughly identical to 538's example. Each line should be a different color. (But you don't need to use the _same_ colors as 538.)\n",
        "- Legend or labels for the lines. (But you don't need each label positioned next to its line or colored like 538.)\n",
        "- Title in the upper left: _\"Who Got To Be On 'The Daily Show'?\"_ with more visual emphasis than the subtitle. (Bolder and/or larger font.)\n",
        "- Subtitle underneath the title: _\"Occupation of guests, by year\"_\n",
        "\n",
        "**Optional Bonus Challenge:**\n",
        "- Give your plot polished aesthetics, with improved resemblance to the 538 example.\n",
        "- Any visual element not specifically mentioned in the expectations is an optional bonus."
      ]
    },
    {
      "metadata": {
        "colab_type": "code",
        "id": "scozkHQc0_eD",
        "outputId": "64a105e6-8fa5-45e5-c78e-d29fcd19b3f2",
        "colab": {
          "base_uri": "https://localhost:8080/",
          "height": 406
        }
      },
      "cell_type": "code",
      "source": [
        "from IPython.display import display, Image\n",
        "png = 'https://fivethirtyeight.com/wp-content/uploads/2015/08/hickey-datalab-dailyshow.png'\n",
        "example = Image(png, width=500)\n",
        "display(example)"
      ],
      "execution_count": 0,
      "outputs": [
        {
          "output_type": "display_data",
          "data": {
            "image/png": "[encoded data removed]",
            "text/plain": [
              "<IPython.core.display.Image object>"
            ]
          },
          "metadata": {
            "tags": [],
            "image/png": {
              "width": 500
            }
          }
        }
      ]
    },
    {
      "metadata": {
        "id": "a0D1uv_Af_jq",
        "colab_type": "code",
        "colab": {
          "base_uri": "https://localhost:8080/",
          "height": 354
        },
        "outputId": "37984b2e-2adb-480b-cb46-75506b287249"
      },
      "cell_type": "code",
      "source": [
        "#sns.set(rc={'figure.figsize':(10,10)})\n",
        "\n",
        "sns.relplot(x=\"Year\", y=\"percent\", hue=\"occupation\", kind=\"line\", data=melt);\n",
        "#plt.title('Who Got To Be On \"The Daily Show\"? \\nOccupation of guests, by year')\n",
        "plt.figtext(.5,.97,'Who Got To Be On \"The Daily Show\"?', fontsize=14, ha='right',fontweight=\"bold\")\n",
        "plt.figtext(.294,.94,'Occupation of guests, by year',fontsize=12,ha='right')\n",
        "plt.ylabel('')\n",
        "plt.xlabel('');"
      ],
      "execution_count": 115,
      "outputs": [
        {
          "output_type": "display_data",
          "data": {
            "image/png": "[encoded data removed]",
            "text/plain": [
              "<Figure size 535.6x360 with 1 Axes>"
            ]
          },
          "metadata": {
            "tags": []
          }
        }
      ]
    },
    {
      "metadata": {
        "colab_type": "text",
        "id": "LuacMjSf2ses"
      },
      "cell_type": "markdown",
      "source": [
        "# Part 3 — Who were the top 10 guests on _The Daily Show_?\n",
        "\n",
        "**Make a plot** that shows their names and number of appearances.\n",
        "\n",
        "**Add a title** of your choice.\n",
        "\n",
        "**Expectations:** It's ok to make a simple, quick plot: exploratory, instead of explanatory. \n",
        "\n",
        "**Optional Bonus Challenge:** You can change aesthetics and add more annotation. For example, in a relevant location, could you add the text \"19\" to show that Fareed Zakaria appeared 19 times on _The Daily Show_? (And so on, for each of the top 10 guests.)"
      ]
    },
    {
      "metadata": {
        "colab_type": "code",
        "id": "tbwfBN3HsFlh",
        "colab": {
          "base_uri": "https://localhost:8080/",
          "height": 204
        },
        "outputId": "0770ab41-2bf0-4c81-9243-0cc99582aa3f"
      },
      "cell_type": "code",
      "source": [
        "df.Guest.value_counts().head(10)"
      ],
      "execution_count": 59,
      "outputs": [
        {
          "output_type": "execute_result",
          "data": {
            "text/plain": [
              "Fareed Zakaria    19\n",
              "Denis Leary       17\n",
              "Brian Williams    16\n",
              "Ricky Gervais     13\n",
              "Paul Rudd         13\n",
              "Tom Brokaw        12\n",
              "Reza Aslan        10\n",
              "Bill O'Reilly     10\n",
              "Will Ferrell      10\n",
              "Richard Lewis     10\n",
              "Name: Guest, dtype: int64"
            ]
          },
          "metadata": {
            "tags": []
          },
          "execution_count": 59
        }
      ]
    },
    {
      "metadata": {
        "id": "irzZXM4SizZp",
        "colab_type": "code",
        "colab": {
          "base_uri": "https://localhost:8080/",
          "height": 650
        },
        "outputId": "59c0e12f-d86c-4b40-9df1-57f998cec8a9"
      },
      "cell_type": "code",
      "source": [
        "from matplotlib import rcParams\n",
        "rcParams['figure.figsize'] = 15,10\n",
        "df.Guest.value_counts().head(10).plot.barh();\n",
        "plt.title('Top 10 Guests on \"The Daily Show\"');"
      ],
      "execution_count": 87,
      "outputs": [
        {
          "output_type": "display_data",
          "data": {
            "image/png": "[encoded data removed]",
            "text/plain": [
              "<Figure size 1080x720 with 1 Axes>"
            ]
          },
          "metadata": {
            "tags": []
          }
        }
      ]
    }
  ]
}